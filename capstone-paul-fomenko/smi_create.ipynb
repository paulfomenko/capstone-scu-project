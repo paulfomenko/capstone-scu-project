{
 "cells": [
  {
   "cell_type": "markdown",
   "metadata": {},
   "source": [
    "### 1. Import packages"
   ]
  },
  {
   "cell_type": "code",
   "execution_count": 1,
   "metadata": {},
   "outputs": [],
   "source": [
    "import pandas as pd\n",
    "import numpy as np"
   ]
  },
  {
   "cell_type": "markdown",
   "metadata": {},
   "source": [
    "### 2. Define Functions"
   ]
  },
  {
   "cell_type": "code",
   "execution_count": 2,
   "metadata": {},
   "outputs": [],
   "source": [
    "## read in CFTC data and append each file.\n",
    "\n",
    "def create_df_cot(files):\n",
    "    for i in files:\n",
    "        a = pd.read_csv(i)\n",
    "        df.append(a)           "
   ]
  },
  {
   "cell_type": "code",
   "execution_count": 3,
   "metadata": {},
   "outputs": [],
   "source": [
    "## format CFTC data\n",
    "\n",
    "def format_df_cot(df):\n",
    "    df['CFTC_Contract_Market_Code'] = df.CFTC_Contract_Market_Code.astype(dtype='str')\n",
    "    df['Report_Date_as_MM_DD_YYYY'] = pd.to_datetime(df.Report_Date_as_MM_DD_YYYY)\n",
    "    df['report_date'] = df.Report_Date_as_MM_DD_YYYY\n",
    "    df.report_date = df.report_date.astype(str)\n",
    "    df.columns = map(str.lower, df.columns)"
   ]
  },
  {
   "cell_type": "code",
   "execution_count": 4,
   "metadata": {},
   "outputs": [],
   "source": [
    "## calculate percents from CFTC data\n",
    "\n",
    "def calc_smart_pcent(df):\n",
    "    df['smart_pcent'] = (df.comm_positions_long_all - df.comm_positions_short_all) / df.open_interest_all\n",
    "\n",
    "def calc_dumb_pcent(df):\n",
    "    df['dumb_pcent'] =  (df.nonrept_positions_long_all - df.nonrept_positions_short_all) / df.open_interest_all"
   ]
  },
  {
   "cell_type": "code",
   "execution_count": 5,
   "metadata": {},
   "outputs": [],
   "source": [
    "## This function does not work, did it manually below. \n",
    "\n",
    "def create_df_subsetted_by_contract(df_cot,df,code):\n",
    "        df = df_cot[df_cot.cftc_contract_market_code == code]\n",
    "        df = df.sort_values(by='report_date')\n",
    "        df = df.set_index(df.report_date)"
   ]
  },
  {
   "cell_type": "code",
   "execution_count": 6,
   "metadata": {},
   "outputs": [],
   "source": [
    "## calculate z score\n",
    "def rolling_z_score_calc(df,column,n_dict):\n",
    "    for k,v in n_dict.items():\n",
    "        df[k+'_'+column] = (df[column] - df[column].rolling(v).mean())/ df[column].rolling(v).std()"
   ]
  },
  {
   "cell_type": "code",
   "execution_count": 7,
   "metadata": {},
   "outputs": [],
   "source": [
    "## subtract one column from the other and divide by two\n",
    "def iirs(df,column1,column2,n_dict):\n",
    "    for k in n_dict:\n",
    "        df[k] = (df[k+'_'+column1] - df[k+'_'+column2]) * 0.5"
   ]
  },
  {
   "cell_type": "code",
   "execution_count": 8,
   "metadata": {},
   "outputs": [],
   "source": [
    "## first two functions: for each M, calculate the max or min for that M.\n",
    "## second two functions: for each N, run the first or second function. essentially loop inside a loop.\n",
    "\n",
    "def max_lookback(old_df,new_df,m_dict,z_n):\n",
    "    for k,v in m_dict.items():\n",
    "        new_df[z_n+'_'+k]= old_df[z_n].rolling(v).max()\n",
    "\n",
    "def min_lookback(old_df,new_df,m_dict,z_n):\n",
    "    for k,v in m_dict.items():\n",
    "        new_df[z_n+'_'+k]= old_df[z_n].rolling(v).min()\n",
    "\n",
    "def z_max(old_df,new_df,m_dict,n_dict):\n",
    "    for k,v in n_dict.items():\n",
    "        max_lookback(old_df,new_df,m_dict,k)\n",
    "\n",
    "def z_min(old_df,new_df,m_dict,n_dict):\n",
    "    for k,v in n_dict.items():\n",
    "        min_lookback(old_df,new_df,m_dict,k)"
   ]
  },
  {
   "cell_type": "markdown",
   "metadata": {},
   "source": [
    "### 3. Set variable names and placeholders"
   ]
  },
  {
   "cell_type": "code",
   "execution_count": 9,
   "metadata": {},
   "outputs": [],
   "source": [
    "cftc_files = ['data/com92_95.csv',\n",
    "'data/com95_06.csv',\n",
    "'data/com07_14.csv',\n",
    "'data/com15_16.csv',\n",
    "'data/com17.csv',\n",
    "'data/com18.csv',\n",
    "'data/com19.csv']"
   ]
  },
  {
   "cell_type": "code",
   "execution_count": 10,
   "metadata": {},
   "outputs": [],
   "source": [
    "market_codes = {\n",
    "    \"sp\": '138741',\n",
    "    \"t10\": ['043602','43602'],\n",
    "    \"t30\": ['020601','20601']\n",
    "}"
   ]
  },
  {
   "cell_type": "code",
   "execution_count": 11,
   "metadata": {},
   "outputs": [],
   "source": [
    "n_dict = {'z_39':39, 'z_52':52, 'z_65':65, 'z_78':78, 'z_91':91, 'z_104':104}\n",
    "\n",
    "m_dict = {'m_1':1,'m_2':2,'m_3':3,'m_4':4,'m_5':5,\n",
    "               'm_6':6,'m_7':7,'m_8':8,'m_9':9,'m_10':10,\n",
    "               'm_11':11,'m_12':12,'m_13':13}"
   ]
  },
  {
   "cell_type": "code",
   "execution_count": 12,
   "metadata": {},
   "outputs": [],
   "source": [
    "df_cot = []"
   ]
  },
  {
   "cell_type": "code",
   "execution_count": 13,
   "metadata": {},
   "outputs": [],
   "source": [
    "df = []"
   ]
  },
  {
   "cell_type": "code",
   "execution_count": 14,
   "metadata": {},
   "outputs": [],
   "source": [
    "sp = []\n",
    "t10 = []\n",
    "t30 = []"
   ]
  },
  {
   "cell_type": "code",
   "execution_count": 15,
   "metadata": {},
   "outputs": [],
   "source": [
    "df_sp = pd.DataFrame()\n",
    "df_t10 = pd.DataFrame()\n",
    "df_t30_max = pd.DataFrame()\n",
    "df_t30_min = pd.DataFrame()"
   ]
  },
  {
   "cell_type": "markdown",
   "metadata": {},
   "source": [
    "### 4. Run Functions"
   ]
  },
  {
   "cell_type": "code",
   "execution_count": 16,
   "metadata": {},
   "outputs": [],
   "source": [
    "create_df_cot(cftc_files)"
   ]
  },
  {
   "cell_type": "code",
   "execution_count": 17,
   "metadata": {},
   "outputs": [],
   "source": [
    "df_cot = pd.concat(df, axis=0, ignore_index=True)"
   ]
  },
  {
   "cell_type": "code",
   "execution_count": 18,
   "metadata": {},
   "outputs": [],
   "source": [
    "format_df_cot(df_cot)"
   ]
  },
  {
   "cell_type": "code",
   "execution_count": 19,
   "metadata": {},
   "outputs": [],
   "source": [
    "calc_smart_pcent(df_cot)\n",
    "calc_dumb_pcent(df_cot)"
   ]
  },
  {
   "cell_type": "code",
   "execution_count": 20,
   "metadata": {
    "scrolled": true
   },
   "outputs": [],
   "source": [
    "#create_df_subsetted_by_contract(df_cot,sp,market_codes['sp'])\n",
    "#create_df_subsetted_by_contract(df_cot,t10,market_codes['t10'])\n",
    "#create_df_subsetted_by_contract(df_cot,t30,market_codes['t30'])"
   ]
  },
  {
   "cell_type": "code",
   "execution_count": 21,
   "metadata": {},
   "outputs": [],
   "source": [
    "## error above so manually do it. \n",
    "sp = df_cot[df_cot.cftc_contract_market_code == market_codes['sp']]\n",
    "t10 = df_cot[(df_cot.cftc_contract_market_code == '043602') | (df_cot.cftc_contract_market_code == '43602')]\n",
    "t30 = df_cot[(df_cot.cftc_contract_market_code == '020601') | (df_cot.cftc_contract_market_code == '20601')]\n",
    "\n",
    "\n",
    "sp = sp.sort_values(by='report_date')\n",
    "t10 = t10.sort_values(by='report_date')\n",
    "t30 = t30.sort_values(by='report_date')\n",
    "\n",
    "sp = sp.set_index(sp.report_date)\n",
    "t10 = t10.set_index(t10.report_date)\n",
    "t30 = t30.set_index(t30.report_date)\n"
   ]
  },
  {
   "cell_type": "code",
   "execution_count": null,
   "metadata": {},
   "outputs": [],
   "source": []
  },
  {
   "cell_type": "code",
   "execution_count": 22,
   "metadata": {},
   "outputs": [],
   "source": [
    "rolling_z_score_calc(sp,'smart_pcent',n_dict)\n",
    "rolling_z_score_calc(sp,'dumb_pcent',n_dict)\n",
    "\n",
    "rolling_z_score_calc(t10,'smart_pcent',n_dict)\n",
    "rolling_z_score_calc(t10,'dumb_pcent',n_dict)\n",
    "\n",
    "rolling_z_score_calc(t30,'smart_pcent',n_dict)\n",
    "rolling_z_score_calc(t30,'dumb_pcent',n_dict)\n"
   ]
  },
  {
   "cell_type": "code",
   "execution_count": 23,
   "metadata": {},
   "outputs": [],
   "source": [
    "iirs(sp,'smart_pcent','dumb_pcent',n_dict)\n",
    "\n",
    "iirs(t10,'smart_pcent','dumb_pcent',n_dict)\n",
    "\n",
    "iirs(t30,'smart_pcent','dumb_pcent',n_dict)\n"
   ]
  },
  {
   "cell_type": "code",
   "execution_count": 24,
   "metadata": {},
   "outputs": [],
   "source": [
    "z_max(sp,df_sp,m_dict,n_dict)\n",
    "z_max(t10,df_t10,m_dict,n_dict)\n",
    "z_max(t30,df_t30_max,m_dict,n_dict)\n",
    "z_min(t30,df_t30_min,m_dict,n_dict)"
   ]
  },
  {
   "cell_type": "code",
   "execution_count": 25,
   "metadata": {},
   "outputs": [],
   "source": [
    "smi = (df_sp - df_t30_min) + (df_t10 - df_t30_max)"
   ]
  },
  {
   "cell_type": "code",
   "execution_count": 26,
   "metadata": {},
   "outputs": [],
   "source": [
    "smi = smi - smi.expanding().median()"
   ]
  },
  {
   "cell_type": "code",
   "execution_count": 27,
   "metadata": {},
   "outputs": [],
   "source": [
    "smi = smi.dropna()"
   ]
  },
  {
   "cell_type": "code",
   "execution_count": 28,
   "metadata": {},
   "outputs": [],
   "source": [
    "df_smi_39 =  smi.iloc[:,0:13]\n",
    "df_smi_52 =  smi.iloc[:,13:26]\n",
    "df_smi_65 =  smi.iloc[:,26:39]\n",
    "df_smi_78 =  smi.iloc[:,39:52]\n",
    "df_smi_91 =  smi.iloc[:,52:65]\n",
    "df_smi_104 = smi.iloc[:,65:78]"
   ]
  },
  {
   "cell_type": "markdown",
   "metadata": {},
   "source": [
    "### 5. Write to csv"
   ]
  },
  {
   "cell_type": "code",
   "execution_count": 30,
   "metadata": {},
   "outputs": [],
   "source": [
    "df_smi_39.to_csv('data/df_smi_39')\n",
    "df_smi_52.to_csv('data/df_smi_52')\n",
    "df_smi_65.to_csv('data/df_smi_65')\n",
    "df_smi_78.to_csv('data/df_smi_78')\n",
    "df_smi_91.to_csv('data/df_smi_91')\n",
    "df_smi_104.to_csv('data/df_smi_104')"
   ]
  },
  {
   "cell_type": "code",
   "execution_count": 31,
   "metadata": {},
   "outputs": [],
   "source": [
    "smi.to_csv('data/smi')"
   ]
  },
  {
   "cell_type": "code",
   "execution_count": null,
   "metadata": {},
   "outputs": [],
   "source": []
  }
 ],
 "metadata": {
  "kernelspec": {
   "display_name": "Python 3",
   "language": "python",
   "name": "python3"
  },
  "language_info": {
   "codemirror_mode": {
    "name": "ipython",
    "version": 3
   },
   "file_extension": ".py",
   "mimetype": "text/x-python",
   "name": "python",
   "nbconvert_exporter": "python",
   "pygments_lexer": "ipython3",
   "version": "3.7.1"
  }
 },
 "nbformat": 4,
 "nbformat_minor": 2
}
