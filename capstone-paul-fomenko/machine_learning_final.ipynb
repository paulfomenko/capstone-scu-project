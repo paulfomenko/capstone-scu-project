{
 "cells": [
  {
   "cell_type": "markdown",
   "metadata": {},
   "source": [
    "# 1. Import packages and misc. functions"
   ]
  },
  {
   "cell_type": "code",
   "execution_count": 1,
   "metadata": {
    "scrolled": true
   },
   "outputs": [
    {
     "data": {
      "text/html": [
       "<style>.container { width:100% !important; }</style>"
      ],
      "text/plain": [
       "<IPython.core.display.HTML object>"
      ]
     },
     "metadata": {},
     "output_type": "display_data"
    }
   ],
   "source": [
    "from IPython.core.display import display, HTML\n",
    "display(HTML(\"<style>.container { width:100% !important; }</style>\"))"
   ]
  },
  {
   "cell_type": "code",
   "execution_count": 2,
   "metadata": {
    "scrolled": false
   },
   "outputs": [
    {
     "name": "stdout",
     "output_type": "stream",
     "text": [
      "Populating the interactive namespace from numpy and matplotlib\n"
     ]
    }
   ],
   "source": [
    "%pylab inline\n",
    "import pandas as pd\n",
    "import numpy as np\n",
    "import random\n",
    "\n",
    "import sys, os\n",
    "\n",
    "from IPython.core.interactiveshell import InteractiveShell\n",
    "InteractiveShell.ast_node_interactivity = \"all\"\n",
    "\n",
    "import sklearn as sk\n",
    "from sklearn.ensemble import GradientBoostingClassifier\n",
    "from sklearn.ensemble import RandomForestClassifier\n",
    "from sklearn.metrics import accuracy_score, roc_auc_score, confusion_matrix, classification_report, roc_curve, auc\n",
    "from sklearn.linear_model import LogisticRegression\n",
    "from sklearn.model_selection import train_test_split\n",
    "import statsmodels.api as sm"
   ]
  },
  {
   "cell_type": "code",
   "execution_count": 3,
   "metadata": {
    "scrolled": false
   },
   "outputs": [],
   "source": [
    "# import warnings filter\n",
    "from warnings import simplefilter\n",
    "# ignore all future warnings\n",
    "simplefilter(action='ignore', category=FutureWarning)"
   ]
  },
  {
   "cell_type": "code",
   "execution_count": 4,
   "metadata": {
    "scrolled": false
   },
   "outputs": [],
   "source": [
    "stdout = sys.stdout"
   ]
  },
  {
   "cell_type": "code",
   "execution_count": 5,
   "metadata": {
    "scrolled": false
   },
   "outputs": [],
   "source": [
    "### enable print and block print\n",
    "# Disable\n",
    "def blockprint():\n",
    "    sys.stdout = open(os.devnull, 'w')\n",
    "\n",
    "# Restore\n",
    "def enableprint():\n",
    "    sys.stdout = stdout"
   ]
  },
  {
   "cell_type": "code",
   "execution_count": 6,
   "metadata": {
    "scrolled": false
   },
   "outputs": [],
   "source": [
    "enableprint()"
   ]
  },
  {
   "cell_type": "markdown",
   "metadata": {},
   "source": [
    "# 2. Create Lists and Dicts"
   ]
  },
  {
   "cell_type": "code",
   "execution_count": 7,
   "metadata": {
    "scrolled": false
   },
   "outputs": [],
   "source": [
    "cftc_files = ['data/com92_95.csv',\n",
    "'data/com95_06.csv',\n",
    "'data/com07_14.csv',\n",
    "'data/com15_16.csv',\n",
    "'data/com17.csv',\n",
    "'data/com18.csv',\n",
    "'data/com19.csv']\n",
    "\n",
    "market_codes = {\n",
    "    \"sp\": '138741',\n",
    "    \"t10\": ['043602','43602'],\n",
    "    \"t30\": ['020601','20601']}\n",
    "\n",
    "n_dict = {'z_78':78}\n",
    "\n",
    "m_dict = {'m_1':1,'m_2':2,'m_3':3,'m_4':4,'m_5':5,\n",
    "               'm_6':6,'m_7':7,'m_8':8,'m_9':9,'m_10':10,\n",
    "               'm_11':11,'m_12':12,'m_13':13}\n",
    "df = []\n",
    "df_cot = []\n",
    "sp = []\n",
    "t10 = []\n",
    "t30 = []\n",
    "\n",
    "df_sp = pd.DataFrame()\n",
    "df_t10 = pd.DataFrame()\n",
    "df_t30_max = pd.DataFrame()\n",
    "df_t30_min = pd.DataFrame()"
   ]
  },
  {
   "cell_type": "code",
   "execution_count": 8,
   "metadata": {
    "scrolled": false
   },
   "outputs": [],
   "source": [
    "def ensemble_dict():\n",
    "    \n",
    "    global ensemble_train_pl_sp\n",
    "    global ensemble_train_pl_ml\n",
    "    global ensemble_test_pl_sp \n",
    "    global ensemble_test_pl_ml\n",
    "    global ensemble_test_pl_sp_2 \n",
    "    global ensemble_test_pl_ml_2\n",
    "    global ensemble_accuracy_train\n",
    "    global ensemble_accuracy_test\n",
    "    global ensemble_accuracy_test_2\n",
    "    global ensemble_std_train_ml\n",
    "    global ensemble_std_train_sp\n",
    "    global ensemble_std_test_ml\n",
    "    global ensemble_std_test_sp\n",
    "    global ensemble_std_test_2_ml\n",
    "    global ensemble_std_test_2_sp\n",
    "    global y\n",
    "    \n",
    "    ensemble_train_pl_sp = []\n",
    "    ensemble_train_pl_ml = []\n",
    "    ensemble_test_pl_sp = []\n",
    "    ensemble_test_pl_ml = []\n",
    "    ensemble_test_pl_sp_2 = []\n",
    "    ensemble_test_pl_ml_2 = []    \n",
    "    ensemble_accuracy_train = []\n",
    "    ensemble_accuracy_test = []\n",
    "    ensemble_accuracy_test_2 = [] \n",
    "    ensemble_std_train_ml = []\n",
    "    ensemble_std_train_sp = []\n",
    "    ensemble_std_test_ml = []\n",
    "    ensemble_std_test_sp = []\n",
    "    ensemble_std_test_2_ml = []\n",
    "    ensemble_std_test_2_sp = []\n",
    "    \n",
    "    \n",
    "    y = {\n",
    "        'ensemble_train_pl_sp':ensemble_train_pl_sp,\n",
    "        'ensemble_train_pl_ml':ensemble_train_pl_ml,\n",
    "        'ensemble_test_pl_sp':ensemble_test_pl_sp,\n",
    "        'ensemble_test_pl_ml':ensemble_test_pl_ml,\n",
    "        'ensemble_test_pl_sp_2':ensemble_test_pl_sp_2,\n",
    "        'ensemble_test_pl_ml_2':ensemble_test_pl_ml_2,\n",
    "        'ensemble_accuracy_train':ensemble_accuracy_train,\n",
    "        'ensemble_accuracy_test':ensemble_accuracy_test,\n",
    "        'ensemble_accuracy_test_2':ensemble_accuracy_test_2,\n",
    "        'ensemble_std_train_ml':ensemble_std_train_ml,\n",
    "        'ensemble_std_train_sp':ensemble_std_train_sp,\n",
    "        'ensemble_std_test_ml':ensemble_std_test_ml,\n",
    "        'ensemble_std_test_sp':ensemble_std_test_sp,\n",
    "        'ensemble_std_test_2_ml':ensemble_std_test_2_ml,\n",
    "        'ensemble_std_test_2_sp':ensemble_std_test_2_sp}"
   ]
  },
  {
   "cell_type": "code",
   "execution_count": 9,
   "metadata": {
    "scrolled": true
   },
   "outputs": [],
   "source": [
    "ensemble_dict()"
   ]
  },
  {
   "cell_type": "markdown",
   "metadata": {},
   "source": [
    "# 3. SMI / CFTC Features"
   ]
  },
  {
   "cell_type": "code",
   "execution_count": 10,
   "metadata": {
    "scrolled": false
   },
   "outputs": [],
   "source": [
    "## read in CFTC data and append each file.\n",
    "\n",
    "def create_df_cot(files):\n",
    "    global df\n",
    "    df = []\n",
    "    for i in files:\n",
    "        a = pd.read_csv(i)\n",
    "        df.append(a)           \n",
    "\n",
    "## format CFTC data\n",
    "\n",
    "def format_df_cot(df):\n",
    "    df['CFTC_Contract_Market_Code'] = df.CFTC_Contract_Market_Code.astype(dtype='str')\n",
    "    df['Report_Date_as_MM_DD_YYYY'] = pd.to_datetime(df.Report_Date_as_MM_DD_YYYY)\n",
    "    df['report_date'] = df.Report_Date_as_MM_DD_YYYY\n",
    "    df.report_date = df.report_date.astype(str)\n",
    "    df.columns = map(str.lower, df.columns)\n",
    "\n",
    "## calculate percents from CFTC data\n",
    "\n",
    "def calc_smart_pcent(df):\n",
    "    df['smart_pcent'] = (df.comm_positions_long_all - df.comm_positions_short_all) / df.open_interest_all\n",
    "\n",
    "def calc_dumb_pcent(df):\n",
    "    df['dumb_pcent'] =  (df.nonrept_positions_long_all - df.nonrept_positions_short_all) / df.open_interest_all\n",
    "\n",
    "## calculate z score\n",
    "def rolling_z_score_calc(df,column,n_dict):\n",
    "    for k,v in n_dict.items():\n",
    "        df[k+'_'+column] = (df[column] - df[column].rolling(v).mean())/ df[column].rolling(v).std()\n",
    "\n",
    "## subtract one column from the other and divide by two\n",
    "def iirs(df,column1,column2,n_dict):\n",
    "    for k in n_dict:\n",
    "        df[k] = (df[k+'_'+column1] - df[k+'_'+column2]) * 0.5\n",
    "\n",
    "def column_rename_and_subset(df,df_name):\n",
    "    df.columns = (df.columns + \"_\" + df_name)\n",
    "\n",
    "\n",
    "\n",
    "def sp_t10_t30():\n",
    "    \n",
    "    global sp\n",
    "    global t10\n",
    "    global t30\n",
    "    \n",
    "    \n",
    "    sp = df_cot[df_cot.cftc_contract_market_code == market_codes['sp']]\n",
    "    t10 = df_cot[(df_cot.cftc_contract_market_code == '043602') | (df_cot.cftc_contract_market_code == '43602')]\n",
    "    t30 = df_cot[(df_cot.cftc_contract_market_code == '020601') | (df_cot.cftc_contract_market_code == '20601')]\n",
    "\n",
    "    sp = sp.sort_values(by='report_date')\n",
    "    t10 = t10.sort_values(by='report_date')\n",
    "    t30 = t30.sort_values(by='report_date')\n",
    "\n",
    "    sp = sp.set_index(sp.report_date)\n",
    "    t10 = t10.set_index(t10.report_date)\n",
    "    t30 = t30.set_index(t30.report_date)\n",
    "\n",
    "\n",
    "    rolling_z_score_calc(sp,'smart_pcent',n_dict)\n",
    "    rolling_z_score_calc(sp,'dumb_pcent',n_dict)\n",
    "\n",
    "    rolling_z_score_calc(t10,'smart_pcent',n_dict)\n",
    "    rolling_z_score_calc(t10,'dumb_pcent',n_dict)\n",
    "\n",
    "    rolling_z_score_calc(t30,'smart_pcent',n_dict)\n",
    "    rolling_z_score_calc(t30,'dumb_pcent',n_dict)\n",
    "\n",
    "    iirs(sp,'smart_pcent','dumb_pcent',n_dict)\n",
    "    iirs(t10,'smart_pcent','dumb_pcent',n_dict)\n",
    "    iirs(t30,'smart_pcent','dumb_pcent',n_dict)\n",
    "\n",
    "    def column_rename_and_subset(df,df_name):\n",
    "        df.columns = (df.columns + \"_\" + df_name)\n",
    "\n",
    "    column_rename_and_subset(sp,'sp')\n",
    "    column_rename_and_subset(t10,'t10')\n",
    "    column_rename_and_subset(t30,'t30')\n",
    "\n",
    "    def z_score_iirs():\n",
    "        global sp\n",
    "        global t10\n",
    "        global t30\n",
    "    \n",
    "        sp = sp.iloc[:,131:132]\n",
    "        t10 = t10.iloc[:,131:132]\n",
    "        t30 = t30.iloc[:,131:132]\n",
    "\n",
    "        sp['z_78_sp_median'] = sp.z_78_sp.expanding().median()\n",
    "        t10['z_78_t10_median'] = t10.z_78_t10.expanding().median()\n",
    "        t30['z_78_t30_median'] = t30.z_78_t30.expanding().median()\n",
    "    \n",
    "    z_score_iirs()"
   ]
  },
  {
   "cell_type": "markdown",
   "metadata": {},
   "source": [
    "# Step 3: Canary and Anxiety Index Features"
   ]
  },
  {
   "cell_type": "code",
   "execution_count": 11,
   "metadata": {
    "scrolled": true
   },
   "outputs": [],
   "source": [
    "eem = pd.read_csv('data/eem.csv')\n",
    "agg = pd.read_csv('data/agg.csv')\n",
    "\n",
    "### eem = MSCI EAFE index\n",
    "### agg = US Bloomberg Barclays Aggregated US Treasury Index\n",
    "\n",
    "def momentum_calc(df):\n",
    "\n",
    "    df['weekly_stock_return'] = 1 + ((df.Price - df.Price.shift(5)) / df.Price)\n",
    "\n",
    "    df['monthly_return'] = df.weekly_stock_return * df.weekly_stock_return.shift(5) * \\\n",
    "                        df.weekly_stock_return.shift(10) * df.weekly_stock_return.shift(15)\n",
    "\n",
    "    df['quarterly_return'] = df.weekly_stock_return * df.weekly_stock_return.shift(5) * \\\n",
    "                        df.weekly_stock_return.shift(10) * df.weekly_stock_return.shift(15) * \\\n",
    "                        df.weekly_stock_return.shift(20) * df.weekly_stock_return.shift(25) * \\\n",
    "                        df.weekly_stock_return.shift(30) * df.weekly_stock_return.shift(35) * \\\n",
    "                        df.weekly_stock_return.shift(40) * df.weekly_stock_return.shift(45) * \\\n",
    "                        df.weekly_stock_return.shift(50) * df.weekly_stock_return.shift(55)\n",
    "\n",
    "\n",
    "    df['semi_return'] = df.weekly_stock_return * df.weekly_stock_return.shift(5) * \\\n",
    "                        df.weekly_stock_return.shift(10) * df.weekly_stock_return.shift(15) * \\\n",
    "                        df.weekly_stock_return.shift(20) * df.weekly_stock_return.shift(25) * \\\n",
    "                        df.weekly_stock_return.shift(30) * df.weekly_stock_return.shift(35) * \\\n",
    "                        df.weekly_stock_return.shift(40) * df.weekly_stock_return.shift(45) * \\\n",
    "                        df.weekly_stock_return.shift(50) * df.weekly_stock_return.shift(55) * \\\n",
    "                        df.weekly_stock_return.shift(60) * df.weekly_stock_return.shift(65) * \\\n",
    "                        df.weekly_stock_return.shift(70) * df.weekly_stock_return.shift(75) * \\\n",
    "                        df.weekly_stock_return.shift(80) * df.weekly_stock_return.shift(85) * \\\n",
    "                        df.weekly_stock_return.shift(90) * df.weekly_stock_return.shift(95) * \\\n",
    "                        df.weekly_stock_return.shift(100) * df.weekly_stock_return.shift(105) * \\\n",
    "                        df.weekly_stock_return.shift(110) * df.weekly_stock_return.shift(115)\n",
    "\n",
    "    df['annual_return'] = df.weekly_stock_return * df.weekly_stock_return.shift(5) * \\\n",
    "                        df.weekly_stock_return.shift(10) * df.weekly_stock_return.shift(15) * \\\n",
    "                        df.weekly_stock_return.shift(20) * df.weekly_stock_return.shift(25) * \\\n",
    "                        df.weekly_stock_return.shift(30) * df.weekly_stock_return.shift(35) * \\\n",
    "                        df.weekly_stock_return.shift(40) * df.weekly_stock_return.shift(45) * \\\n",
    "                        df.weekly_stock_return.shift(50) * df.weekly_stock_return.shift(55) * \\\n",
    "                        df.weekly_stock_return.shift(60) * df.weekly_stock_return.shift(65) * \\\n",
    "                        df.weekly_stock_return.shift(70) * df.weekly_stock_return.shift(75) * \\\n",
    "                        df.weekly_stock_return.shift(80) * df.weekly_stock_return.shift(85) * \\\n",
    "                        df.weekly_stock_return.shift(90) * df.weekly_stock_return.shift(95) * \\\n",
    "                        df.weekly_stock_return.shift(100) * df.weekly_stock_return.shift(105) * \\\n",
    "                        df.weekly_stock_return.shift(110) * df.weekly_stock_return.shift(115) * \\\n",
    "                        df.weekly_stock_return.shift(120) * df.weekly_stock_return.shift(125) * \\\n",
    "                        df.weekly_stock_return.shift(130) * df.weekly_stock_return.shift(135) * \\\n",
    "                        df.weekly_stock_return.shift(140) * df.weekly_stock_return.shift(145) * \\\n",
    "                        df.weekly_stock_return.shift(150) * df.weekly_stock_return.shift(155) * \\\n",
    "                        df.weekly_stock_return.shift(160) * df.weekly_stock_return.shift(165) * \\\n",
    "                        df.weekly_stock_return.shift(170) * df.weekly_stock_return.shift(175) * \\\n",
    "                        df.weekly_stock_return.shift(180) * df.weekly_stock_return.shift(185) * \\\n",
    "                        df.weekly_stock_return.shift(190) * df.weekly_stock_return.shift(195) * \\\n",
    "                        df.weekly_stock_return.shift(200) * df.weekly_stock_return.shift(205) * \\\n",
    "                        df.weekly_stock_return.shift(210) * df.weekly_stock_return.shift(215) * \\\n",
    "                        df.weekly_stock_return.shift(220) * df.weekly_stock_return.shift(225) * \\\n",
    "                        df.weekly_stock_return.shift(230) * df.weekly_stock_return.shift(235)\n",
    "\n",
    "    df['momo'] =  ( (df.monthly_return-1)*12 + (df.quarterly_return-1)*4 + (df.semi_return - 1)*2 + (df.annual_return-1) ) / 4\n",
    "\n",
    "    df['Date'] = pd.to_datetime(df.Date)\n",
    "    df['Date'] = df.Date.dt.strftime('%Y%m%d')\n",
    "    df = df.set_index('Date')\n",
    "    \n",
    "    return df\n",
    "\n",
    "agg = momentum_calc(agg)\n",
    "eem = momentum_calc(eem)\n",
    "\n",
    "eem['momo_eem'] = eem.momo\n",
    "agg['momo_agg'] = agg.momo\n",
    "\n",
    "eem = eem[['momo_eem']]\n",
    "agg = agg[['momo_agg']]\n",
    "\n",
    "eem.index = pd.to_datetime(eem.index)\n",
    "agg.index = pd.to_datetime(agg.index)\n",
    "\n",
    "### Philadelphia Anxiety Index Q1 Look Ahead Forecast\n",
    "\n",
    "recession_fear_df = pd.DataFrame(index=eem.index)\n",
    "recession_fear_df['DayDate'] = pd.to_datetime(recession_fear_df.index)\n",
    "recession_fear_df['quarter'] = recession_fear_df.index\n",
    "recession_fear_df.quarter = pd.PeriodIndex(recession_fear_df.quarter,freq='Q')\n",
    "recession_fear_df.quarter = recession_fear_df.quarter.astype(str)\n",
    "\n",
    "rf = pd.read_csv('data/recessionfearindex.csv')\n",
    "rf['Date'] = rf.Date.astype(str)\n",
    "rf_forecast = recession_fear_df.merge(rf,how='left',left_on='quarter',right_on='Date')\n",
    "rf_forecast['rf'] = rf_forecast['QTR1']\n",
    "rf_forecast.index = rf_forecast.DayDate\n",
    "rf_forecast = rf_forecast[['rf']]\n",
    "rf_forecast = rf_forecast / 100"
   ]
  },
  {
   "cell_type": "markdown",
   "metadata": {},
   "source": [
    "# Step 4: ML Training and Test(s) Data Set Creation"
   ]
  },
  {
   "cell_type": "code",
   "execution_count": 12,
   "metadata": {
    "scrolled": true
   },
   "outputs": [],
   "source": [
    "def df_ml_create():\n",
    "    global df_ml\n",
    "    global df_SPX_price\n",
    "    global stock_rets\n",
    "    global df_ml_train\n",
    "    global df_ml_test\n",
    "    global train\n",
    "    global test\n",
    "    global X_train\n",
    "    global Y_train\n",
    "    global X_test\n",
    "    global Y_test\n",
    "    global X_test_two\n",
    "    global Y_test_two\n",
    "    \n",
    "    ## SP, T10, T30\n",
    "    df_ml = sp.merge(t10,how='left',left_index=True,right_index=True)\n",
    "    df_ml = df_ml.merge(t30,how='left',left_index=True,right_index=True)\n",
    "    \n",
    "    ## canary df\n",
    "    df_ml = df_ml.merge(eem,how=\"left\",left_index=True,right_index=True)\n",
    "    df_ml = df_ml.merge(agg,how=\"left\",left_index=True,right_index=True) \n",
    "    ##rf_forecast\n",
    "    df_ml = df_ml.merge(rf_forecast,how='left',left_index=True,right_on='DayDate')\n",
    "    \n",
    "    ##ml clean up\n",
    "    df_ml = df_ml.shift(1)\n",
    "    df_ml = df_ml.dropna()\n",
    "    df_ml.index = pd.to_datetime(df_ml.index)\n",
    "    df_ml.index = df_ml.index.strftime('%Y%m%d')\n",
    "    \n",
    "    #insert returns. \n",
    "    df_SPX_price = pd.read_csv('data/spx.csv')\n",
    "    df_SPX_price['stock_return'] = 1 + ((df_SPX_price.Close.shift(-5) - df_SPX_price.Close) / df_SPX_price.Close)\n",
    "    df_SPX_price['Date'] = pd.to_datetime(df_SPX_price.Date)\n",
    "    df_SPX_price['Date'] = df_SPX_price.Date.dt.strftime('%Y%m%d')\n",
    "    df_SPX_price= df_SPX_price.set_index('Date')\n",
    "    stock_rets = df_SPX_price[['stock_return']]\n",
    "    df_ml = df_ml.merge(stock_rets,how='left',right_index=True,left_index=True)\n",
    "    df_ml['ml_ret'] = df_ml['stock_return'].apply(lambda x: 1 if x > 1 else 0)\n",
    "    #df_ml = df_ml[['ml_ret','stock_return','z_78_sp','z_78_sp_median','z_78_t10','z_78_t30','momo_eem','momo_agg','rf']]\n",
    "    \n",
    "    ##train, test\n",
    "    df_ml_train = df_ml[df_ml.index < '2018']\n",
    "    df_ml_test = df_ml[df_ml.index > '2018']\n",
    "    #X = random.randint(0,int((len(df_ml_train)/2)))\n",
    "    #train = df_ml_train.iloc[X:(X+int((len(df_ml_train)/2)))]\n",
    "    #test = df_ml_train.iloc[0:X].append(df_ml_train.iloc[(X+int((len(df_ml_train)/2))):len(df_ml_train)])\n",
    "    train, test = train_test_split(df_ml_train, test_size=0.5,shuffle=False)\n",
    "    train = train[(train.stock_return > 1.005) | (train.stock_return <= 1)]\n",
    "    X_train = train.drop(columns=['stock_return','ml_ret'])\n",
    "    Y_train = train.ml_ret\n",
    "    X_test = test.drop(columns=['stock_return','ml_ret'])\n",
    "    Y_test = test.ml_ret\n",
    "    X_test_two = df_ml_test.drop(columns=['stock_return','ml_ret'])\n",
    "    Y_test_two = df_ml_test.ml_ret\n",
    "\n",
    "## initial ML to get datasets and see initial results\n",
    "def ml():    \n",
    "    sp_t10_t30()\n",
    "    df_ml_create()\n",
    "    ml_model(gbc)\n",
    "    print('\\n')\n",
    "    ml_model(clf)\n",
    "    print('\\n')\n",
    "    ml_model(lg)\n",
    "    print('\\n')"
   ]
  },
  {
   "cell_type": "markdown",
   "metadata": {},
   "source": [
    "# Step 5: ML Model Function + Ensemble Function"
   ]
  },
  {
   "cell_type": "code",
   "execution_count": 13,
   "metadata": {
    "scrolled": false
   },
   "outputs": [],
   "source": [
    "def ml_model(model):\n",
    "\n",
    "    model.fit(X_train,Y_train)\n",
    "\n",
    "    ##Train\n",
    "    preds = model.predict(X_train)\n",
    "    preds1 = preds > 0.5\n",
    "    print(\"Training Confusion Matrix\")\n",
    "    print(pd.crosstab(Y_train, preds1, rownames=['Actual pos or neg return'], colnames=['Predicted pos or neg return']))\n",
    "    print(\"Accuracy Score of Training = \" + accuracy_score(Y_train, preds1).astype(str))\n",
    "    y_score = model.predict_proba(X_train)[:,1]\n",
    "    fpr, tpr, _ = roc_curve(Y_train,y_score)\n",
    "    print('Area under curve (AUC): ', auc(fpr,tpr) )\n",
    "    print('\\n')\n",
    "    print(\"Stock Return of Training Set = \"+ np.prod(train.stock_return).astype(str))\n",
    "    print(\"Stock Return of Training Set Preds Positive = \" + np.prod(train.stock_return[preds1>0]).astype(str))\n",
    "    print(\"Stock Return of Training Set Preds Neg = \" + np.prod(train.stock_return[preds1==0]).astype(str))\n",
    "    print(\"\\n\")\n",
    "\n",
    "    ##Test\n",
    "    preds = model.predict(X_test)\n",
    "    preds1 = preds > 0.5\n",
    "    print(\"Test Confusion Matrix\")\n",
    "    print(pd.crosstab(Y_test, preds1, rownames=['Actual pos or neg return'], colnames=['Predicted pos or neg return']))\n",
    "    print(\"Accuracy Score of Test = \" + accuracy_score(Y_test, preds1).astype(str))\n",
    "    y_score = model.predict_proba(X_test)[:,1]\n",
    "    fpr, tpr, _ = roc_curve(Y_test,y_score)\n",
    "    print('Area under curve (AUC): ', auc(fpr,tpr) )\n",
    "    print('\\n')\n",
    "    print(\"Stock Return of Test Set = \"+ np.prod(test.stock_return).astype(str))\n",
    "    print(\"Stock Return of Test Set Preds Positive = \" + np.prod(test.stock_return[preds1>0]).astype(str))\n",
    "    print(\"Stock Return of Test Set Preds Neg = \" + np.prod(test.stock_return[preds1==0]).astype(str))\n",
    "    print(\"\\n\")\n",
    "    \n",
    "    ##Test Two 2018-2019\n",
    "    preds = model.predict(X_test_two)\n",
    "    preds1 = preds > 0.5\n",
    "    print(\"2018-2019 Confusion Matrix\")\n",
    "    print(pd.crosstab(Y_test_two, preds1, rownames=['Actual pos or neg return'], colnames=['Predicted pos or neg return']))\n",
    "    print(\"Accuracy Score of Most Recent 2 Years = \" + accuracy_score(Y_test_two, preds1).astype(str))\n",
    "    y_score = model.predict_proba(X_test_two)[:,1]\n",
    "    fpr, tpr, _ = roc_curve(Y_test_two,y_score)\n",
    "    print('Area under curve (AUC): ', auc(fpr,tpr) )\n",
    "    print('\\n')\n",
    "    print(\"Stock Return of Most Recent 2 Years  = \"+ np.prod(df_ml_test.stock_return).astype(str))\n",
    "    print(\"Stock Return of Most Recent 2 Years Preds Positive = \" + np.prod(df_ml_test.stock_return[preds1>0]).astype(str))\n",
    "    print(\"Stock Return of Most Recent 2 Years Preds Neg = \" + np.prod(df_ml_test.stock_return[preds1==0]).astype(str))\n",
    "    \n",
    "    ##P/L Train\n",
    "    print('\\n')\n",
    "    preds = model.predict(X_train)\n",
    "    preds = preds > 0.5\n",
    "    pl = (train.stock_return * preds)\n",
    "    pl = pl.replace(to_replace=0,value=1)\n",
    "    pl = pl.cumprod()\n",
    "    plt.figure(0)\n",
    "    title('Model Train Returns')\n",
    "    xlabel('Date')\n",
    "    ylabel('Return')\n",
    "    plot(pl)\n",
    "    plot(train.stock_return.cumprod())\n",
    "    plt.show()\n",
    "    print('S&P return orange = ' + str(train.stock_return.cumprod()[-1]))\n",
    "    print('ML return blue = '+str(pl[-1]))\n",
    "    print('\\n')\n",
    "    \n",
    "    ##P/L Test\n",
    "    preds = model.predict(X_test)\n",
    "    preds = preds > 0.5\n",
    "    pl = (test.stock_return * preds)\n",
    "    pl = pl.replace(to_replace=0,value=1)\n",
    "    pl = pl.cumprod()\n",
    "    plt.figure(1)\n",
    "    title('Model Test Returns')\n",
    "    xlabel('Date')\n",
    "    ylabel('Return')\n",
    "    plot(pl)\n",
    "    plot(test.stock_return.cumprod())\n",
    "    plt.show()\n",
    "    print('S&P return orange = ' + str(test.stock_return.cumprod()[-1]))\n",
    "    print('ML return blue = '+str(pl[-1]))\n",
    "    print('\\n')\n",
    "    \n",
    "    ##P/L Test Two 2018-2019\n",
    "    preds = model.predict(X_test_two)\n",
    "    preds = preds > 0.5\n",
    "    pl = (df_ml_test.stock_return * preds)\n",
    "    pl = pl.replace(to_replace=0,value=1)\n",
    "    pl = pl.cumprod()\n",
    "    plt.figure(2)\n",
    "    title('Model 2018 2019 Returns')\n",
    "    xlabel('Date')\n",
    "    ylabel('Return')\n",
    "    plot(pl)\n",
    "    plot(df_ml_test.stock_return.cumprod())\n",
    "    plt.show()\n",
    "    print('S&P return orange = ' + str(df_ml_test.stock_return.cumprod()[-6]))\n",
    "    print('ML return blue = '+str(pl[-6]))\n",
    "    print('\\n')"
   ]
  },
  {
   "cell_type": "code",
   "execution_count": 14,
   "metadata": {
    "scrolled": true
   },
   "outputs": [],
   "source": [
    "def ensemble(output):\n",
    "    gbc.fit(X_train,Y_train)\n",
    "    clf.fit(X_train,Y_train)\n",
    "    lg.fit(X_train,Y_train)\n",
    "    \n",
    "    global ensemble_train_pl_sp\n",
    "    global ensemble_train_pl_ml\n",
    "    global ensemble_test_pl_sp \n",
    "    global ensemble_test_pl_ml\n",
    "    global ensemble_test_pl_sp_2 \n",
    "    global ensemble_test_pl_ml_2\n",
    "    global ensemble_accuracy_train\n",
    "    global ensemble_accuracy_test\n",
    "    global ensemble_accuracy_test_2\n",
    "    global ensemble_std_train_ml\n",
    "    global ensemble_std_train_sp\n",
    "    global ensemble_std_test_ml\n",
    "    global ensemble_std_test_sp\n",
    "    global ensemble_std_test_2_ml\n",
    "    global ensemble_std_test_2_sp\n",
    "    \n",
    "    \n",
    "    #Train\n",
    "    preds_gbc = gbc.predict_proba(X_train)\n",
    "    preds_clf = clf.predict_proba(X_train)\n",
    "    preds_lg = lg.predict_proba(X_train)\n",
    "    preds_ensemble = ( preds_gbc[:,1] + preds_clf[:,1] + preds_lg[:,1]) / 3\n",
    "    preds_ensemble = preds_ensemble > 0.5\n",
    "    \n",
    "    print(\"Ensemble Train Confusion Matrix\")\n",
    "    print(pd.crosstab(Y_train, preds_ensemble, rownames=['Actual pos or neg return'], colnames=['Predicted pos or neg return']))\n",
    "    print(\"Accuracy Score of Train = \" + accuracy_score(Y_train, preds_ensemble).astype(str))\n",
    "    ensemble_accuracy_train.append(accuracy_score(Y_train, preds_ensemble))\n",
    "    \n",
    "    #P/L Chart Test\n",
    "    preds = preds_ensemble\n",
    "    pl = (train.stock_return * preds)\n",
    "    \n",
    "    #std dev calc\n",
    "    std = (pl[pl != 0]).std()\n",
    "    \n",
    "    pl = pl.replace(to_replace=0,value=1)\n",
    "    pl = pl.cumprod()\n",
    "    \n",
    "    if output == 1:\n",
    "        plt.figure(0)\n",
    "        title('Ensemble Train Returns')\n",
    "        xlabel('Date')\n",
    "        ylabel('Return')\n",
    "        print('S&P return orange = ' + str(train.stock_return.cumprod()[-1]))\n",
    "        print('ML return blue = '+str(pl[-1]))\n",
    "        plot(pl)\n",
    "        plot(train.stock_return.cumprod())\n",
    "        plt.show()\n",
    "    \n",
    "    ## pseudo_cross_val append\n",
    "    ensemble_train_pl_sp.append(train.stock_return.cumprod()[-1])\n",
    "    ensemble_train_pl_ml.append(pl[-1])\n",
    "    ensemble_std_train_ml.append(std)\n",
    "    ensemble_std_train_sp.append(train.stock_return.std())\n",
    "    \n",
    "    #Test\n",
    "    preds_gbc = gbc.predict_proba(X_test)\n",
    "    preds_clf = clf.predict_proba(X_test)\n",
    "    preds_lg = lg.predict_proba(X_test)\n",
    "    preds_ensemble = ( preds_gbc[:,1] + preds_clf[:,1] + preds_lg[:,1]) / 3\n",
    "    preds_ensemble = preds_ensemble > 0.5\n",
    "    \n",
    "    print(\"Ensemble Test Confusion Matrix\")\n",
    "    print(pd.crosstab(Y_test, preds_ensemble, rownames=['Actual pos or neg return'], colnames=['Predicted pos or neg return']))\n",
    "    print(\"Accuracy Score of Test = \" + accuracy_score(Y_test, preds_ensemble).astype(str))\n",
    "    ensemble_accuracy_test.append(accuracy_score(Y_test, preds_ensemble))\n",
    "    \n",
    "    #P/L Chart Test\n",
    "    preds = preds_ensemble\n",
    "    pl = (test.stock_return * preds)\n",
    "    \n",
    "    #std dev calc\n",
    "    std = (pl[pl != 0]).std()\n",
    "    \n",
    "    pl = pl.replace(to_replace=0,value=1)\n",
    "    pl = pl.cumprod()\n",
    "    \n",
    "    if output == 1:\n",
    "        plt.figure(1)\n",
    "        title('Ensemble Test Returns')\n",
    "        xlabel('Date')\n",
    "        ylabel('Return')\n",
    "        print('S&P return orange = ' + str(test.stock_return.cumprod()[-1]))\n",
    "        print('ML return blue = '+str(pl[-1]))\n",
    "        plot(pl)\n",
    "        plot(test.stock_return.cumprod())\n",
    "        plt.show()\n",
    "    \n",
    "    ## pseudo_cross_val append\n",
    "    ensemble_test_pl_sp.append(test.stock_return.cumprod()[-1])\n",
    "    ensemble_test_pl_ml.append(pl[-1])\n",
    "    ensemble_std_test_ml.append(std)\n",
    "    ensemble_std_test_sp.append(test.stock_return.std())\n",
    "    \n",
    "    \n",
    "    ## 2018 - 2019 Test\n",
    "    preds_gbc = gbc.predict_proba(X_test_two)\n",
    "    preds_clf = clf.predict_proba(X_test_two)\n",
    "    preds_lg = lg.predict_proba(X_test_two)\n",
    "    preds_ensemble = ( preds_gbc[:,1] + preds_clf[:,1] + preds_lg[:,1]) / 3\n",
    "    preds_ensemble = preds_ensemble > 0.5\n",
    "    \n",
    "    print(\"Ensemble Test 2018 2019 Confusion Matrix\")\n",
    "    print(pd.crosstab(Y_test_two, preds_ensemble, rownames=['Actual pos or neg return'], colnames=['Predicted pos or neg return']))\n",
    "    print(\"Accuracy Score of Test = \" + accuracy_score(Y_test_two, preds_ensemble).astype(str))\n",
    "    ensemble_accuracy_test_2.append(accuracy_score(Y_test_two, preds_ensemble))\n",
    "    \n",
    "    #P/L Chart Test Two\n",
    "    preds = preds_ensemble\n",
    "    pl = (df_ml_test.stock_return * preds)\n",
    "    \n",
    "    #std dev calc\n",
    "    std = (pl[pl != 0]).std()\n",
    "    \n",
    "    pl = pl.replace(to_replace=0,value=1)\n",
    "    pl = pl.cumprod()\n",
    "    \n",
    "    if output == 1:\n",
    "        plt.figure(2)\n",
    "        title('Ensemble 2018 2019 Returns')\n",
    "        xlabel('Date')\n",
    "        ylabel('Return')\n",
    "        print('S&P return orange = ' + str(df_ml_test.stock_return.cumprod()[-6]))\n",
    "        print('ML return blue = '+str(pl[-6]))\n",
    "        plot(pl)\n",
    "        plot(df_ml_test.stock_return.cumprod())\n",
    "        plt.show()\n",
    "    \n",
    "    ## pseudo_cross_val append\n",
    "    ensemble_test_pl_sp_2.append(df_ml_test.stock_return.cumprod()[-6]) \n",
    "    ensemble_test_pl_ml_2.append(pl[-6])\n",
    "    ensemble_std_test_2_ml.append(std)\n",
    "    ensemble_std_test_2_sp.append(df_ml_test.stock_return.std())"
   ]
  },
  {
   "cell_type": "code",
   "execution_count": 15,
   "metadata": {
    "scrolled": true
   },
   "outputs": [],
   "source": [
    "def psuedo_cross_val_print(x):\n",
    "    for k,v in x.items():\n",
    "        print(k)\n",
    "        print(pd.Series(v).describe())\n",
    "        print(\"\\n\") "
   ]
  },
  {
   "cell_type": "markdown",
   "metadata": {},
   "source": [
    "# <font color='red'>Step 6: RUN ML!</font>"
   ]
  },
  {
   "cell_type": "code",
   "execution_count": 16,
   "metadata": {
    "scrolled": false
   },
   "outputs": [],
   "source": [
    "create_df_cot(cftc_files)\n",
    "df_cot = []\n",
    "df_cot = pd.concat(df, axis=0, ignore_index=True)\n",
    "format_df_cot(df_cot)\n",
    "calc_smart_pcent(df_cot)\n",
    "calc_dumb_pcent(df_cot)"
   ]
  },
  {
   "cell_type": "code",
   "execution_count": 17,
   "metadata": {
    "scrolled": false
   },
   "outputs": [],
   "source": [
    "### log settings\n",
    "intercept = False\n",
    "class_weight = 'balanced'\n",
    "\n",
    "## tree settings\n",
    "max_features=2\n",
    "max_depth=2\n",
    "n_estimators=4\n",
    "max_leaf_nodes=4\n",
    "min_samples_split=6\n",
    "\n",
    "## ensemble rounds for cross_validation\n",
    "rounds = 1000"
   ]
  },
  {
   "cell_type": "code",
   "execution_count": 18,
   "metadata": {
    "scrolled": true
   },
   "outputs": [],
   "source": [
    "gbc = GradientBoostingClassifier(max_features=max_features,max_depth=max_depth,\\\n",
    "                                 n_estimators=n_estimators,max_leaf_nodes=max_leaf_nodes,\\\n",
    "                                 min_samples_split=min_samples_split)\n",
    "\n",
    "clf = RandomForestClassifier(max_features=max_features,max_depth=max_depth,\\\n",
    "                                 n_estimators=n_estimators,max_leaf_nodes=max_leaf_nodes,\\\n",
    "                              min_samples_split=min_samples_split)\n",
    "\n",
    "lg = LogisticRegression(fit_intercept=intercept,class_weight=class_weight)"
   ]
  },
  {
   "cell_type": "code",
   "execution_count": null,
   "metadata": {
    "scrolled": true
   },
   "outputs": [
    {
     "name": "stdout",
     "output_type": "stream",
     "text": [
      "Training Confusion Matrix\n",
      "Predicted pos or neg return  False  True \n",
      "Actual pos or neg return                 \n",
      "0                               36    225\n",
      "1                               15    277\n",
      "Accuracy Score of Training = 0.566003616636528\n",
      "Area under curve (AUC):  0.6898454311656957\n",
      "\n",
      "\n",
      "Stock Return of Training Set = 2.1097088438953895\n",
      "Stock Return of Training Set Preds Positive = 4.279534854456487\n",
      "Stock Return of Training Set Preds Neg = 0.4929762031727462\n",
      "\n",
      "\n",
      "Test Confusion Matrix\n",
      "Predicted pos or neg return  True\n",
      "Actual pos or neg return         \n",
      "0                             251\n",
      "1                             366\n",
      "Accuracy Score of Test = 0.593192868719611\n",
      "Area under curve (AUC):  0.5547046785535453\n",
      "\n",
      "\n",
      "Stock Return of Test Set = 2.467675739217292\n",
      "Stock Return of Test Set Preds Positive = 2.467675739217292\n",
      "Stock Return of Test Set Preds Neg = 1.0\n",
      "\n",
      "\n",
      "2018-2019 Confusion Matrix\n",
      "Predicted pos or neg return  True\n",
      "Actual pos or neg return         \n",
      "0                              35\n",
      "1                              51\n",
      "Accuracy Score of Most Recent 2 Years = 0.5930232558139535\n",
      "Area under curve (AUC):  0.5761904761904761\n",
      "\n",
      "\n",
      "Stock Return of Most Recent 2 Years  = 1.2262003830094492\n",
      "Stock Return of Most Recent 2 Years Preds Positive = 1.2262003830094492\n",
      "Stock Return of Most Recent 2 Years Preds Neg = 1.0\n",
      "\n",
      "\n"
     ]
    },
    {
     "data": {
      "image/png": "[encoded data removed]",
      "text/plain": [
       "<Figure size 432x288 with 1 Axes>"
      ]
     },
     "metadata": {
      "needs_background": "light"
     },
     "output_type": "display_data"
    },
    {
     "name": "stdout",
     "output_type": "stream",
     "text": [
      "S&P return orange = 2.1097088438953895\n",
      "ML return blue = 4.279534854456487\n",
      "\n",
      "\n"
     ]
    },
    {
     "data": {
      "image/png": "[encoded data removed]",
      "text/plain": [
       "<Figure size 432x288 with 1 Axes>"
      ]
     },
     "metadata": {
      "needs_background": "light"
     },
     "output_type": "display_data"
    },
    {
     "name": "stdout",
     "output_type": "stream",
     "text": [
      "S&P return orange = 2.467675739217292\n",
      "ML return blue = 2.467675739217292\n",
      "\n",
      "\n"
     ]
    },
    {
     "data": {
      "image/png": "[encoded data removed]",
      "text/plain": [
       "<Figure size 432x288 with 1 Axes>"
      ]
     },
     "metadata": {
      "needs_background": "light"
     },
     "output_type": "display_data"
    },
    {
     "name": "stdout",
     "output_type": "stream",
     "text": [
      "S&P return orange = 1.2262003830094492\n",
      "ML return blue = 1.2262003830094492\n",
      "\n",
      "\n",
      "\n",
      "\n",
      "Training Confusion Matrix\n",
      "Predicted pos or neg return  False  True \n",
      "Actual pos or neg return                 \n",
      "0                              104    157\n",
      "1                               70    222\n",
      "Accuracy Score of Training = 0.5895117540687161\n",
      "Area under curve (AUC):  0.6302878811735685\n",
      "\n",
      "\n",
      "Stock Return of Training Set = 2.1097088438953895\n",
      "Stock Return of Training Set Preds Positive = 4.30002916845235\n",
      "Stock Return of Training Set Preds Neg = 0.49062663559901076\n",
      "\n",
      "\n",
      "Test Confusion Matrix\n",
      "Predicted pos or neg return  False  True \n",
      "Actual pos or neg return                 \n",
      "0                               50    201\n",
      "1                               52    314\n",
      "Accuracy Score of Test = 0.5899513776337115\n",
      "Area under curve (AUC):  0.5523479851087454\n",
      "\n",
      "\n",
      "Stock Return of Test Set = 2.467675739217292\n",
      "Stock Return of Test Set Preds Positive = 2.775967292286644\n",
      "Stock Return of Test Set Preds Neg = 0.8889426565197746\n",
      "\n",
      "\n",
      "2018-2019 Confusion Matrix\n",
      "Predicted pos or neg return  True\n",
      "Actual pos or neg return         \n",
      "0                              35\n",
      "1                              51\n",
      "Accuracy Score of Most Recent 2 Years = 0.5930232558139535\n",
      "Area under curve (AUC):  0.5834733893557422\n",
      "\n",
      "\n",
      "Stock Return of Most Recent 2 Years  = 1.2262003830094492\n",
      "Stock Return of Most Recent 2 Years Preds Positive = 1.2262003830094492\n",
      "Stock Return of Most Recent 2 Years Preds Neg = 1.0\n",
      "\n",
      "\n"
     ]
    },
    {
     "data": {
      "image/png": "[encoded data removed]",
      "text/plain": [
       "<Figure size 432x288 with 1 Axes>"
      ]
     },
     "metadata": {
      "needs_background": "light"
     },
     "output_type": "display_data"
    },
    {
     "name": "stdout",
     "output_type": "stream",
     "text": [
      "S&P return orange = 2.1097088438953895\n",
      "ML return blue = 4.30002916845235\n",
      "\n",
      "\n"
     ]
    },
    {
     "data": {
      "image/png": "[encoded data removed]",
      "text/plain": [
       "<Figure size 432x288 with 1 Axes>"
      ]
     },
     "metadata": {
      "needs_background": "light"
     },
     "output_type": "display_data"
    },
    {
     "name": "stdout",
     "output_type": "stream",
     "text": [
      "S&P return orange = 2.467675739217292\n",
      "ML return blue = 2.775967292286644\n",
      "\n",
      "\n"
     ]
    }
   ],
   "source": [
    "ml()"
   ]
  },
  {
   "cell_type": "code",
   "execution_count": null,
   "metadata": {
    "scrolled": true
   },
   "outputs": [],
   "source": [
    "df_ml.describe()"
   ]
  },
  {
   "cell_type": "code",
   "execution_count": null,
   "metadata": {
    "scrolled": false
   },
   "outputs": [],
   "source": [
    "ensemble(1)"
   ]
  },
  {
   "cell_type": "code",
   "execution_count": null,
   "metadata": {
    "scrolled": false
   },
   "outputs": [],
   "source": [
    "ensemble_dict()\n",
    "\n",
    "blockprint()\n",
    "\n",
    "## will take a while. \n",
    "\n",
    "for i in range(rounds):\n",
    "    ensemble(0)"
   ]
  },
  {
   "cell_type": "code",
   "execution_count": null,
   "metadata": {
    "scrolled": true
   },
   "outputs": [],
   "source": [
    "enableprint()"
   ]
  },
  {
   "cell_type": "code",
   "execution_count": null,
   "metadata": {
    "scrolled": true
   },
   "outputs": [],
   "source": [
    "psuedo_cross_val_print(y)"
   ]
  },
  {
   "cell_type": "code",
   "execution_count": null,
   "metadata": {
    "scrolled": true
   },
   "outputs": [],
   "source": [
    "print(\"For \" + str(rounds) + \" rounds, the ensemble method outperforms on the out of sample data this many times: \" \\\n",
    "      + str(sum(np.array(ensemble_test_pl_ml) > 2.467676)))"
   ]
  },
  {
   "cell_type": "code",
   "execution_count": null,
   "metadata": {
    "scrolled": true
   },
   "outputs": [],
   "source": [
    "print(\"For \" + str(rounds) + \" rounds, the ensemble method outperforms on the held back data this many times: \" + \\\n",
    "      str(sum(np.array(ensemble_test_pl_ml_2) > 1.2262)))"
   ]
  },
  {
   "cell_type": "code",
   "execution_count": null,
   "metadata": {
    "scrolled": true
   },
   "outputs": [],
   "source": [
    "### Additional work after Dan's Review"
   ]
  },
  {
   "cell_type": "code",
   "execution_count": null,
   "metadata": {
    "scrolled": true
   },
   "outputs": [],
   "source": [
    "import statsmodels.api as sm\n",
    "## train only\n",
    "log = sm.Logit(Y_train,X_train)\n",
    "results = log.fit()\n",
    "results.summary()"
   ]
  },
  {
   "cell_type": "code",
   "execution_count": null,
   "metadata": {
    "scrolled": false
   },
   "outputs": [],
   "source": [
    "## full dataset\n",
    "log = sm.Logit(df_ml['ml_ret'],df_ml[['z_78_sp','z_78_sp_median','z_78_t10','z_78_t10_median',\\\n",
    "                                     'z_78_t30','z_78_t30_median','momo_eem','momo_agg','rf']])\n",
    "results = log.fit()\n",
    "results.summary()"
   ]
  },
  {
   "cell_type": "code",
   "execution_count": null,
   "metadata": {
    "scrolled": true
   },
   "outputs": [],
   "source": [
    "### ensemble method 2:"
   ]
  },
  {
   "cell_type": "code",
   "execution_count": null,
   "metadata": {
    "scrolled": true
   },
   "outputs": [],
   "source": [
    "def ensemble_2(output):    \n",
    "    global ensemble_train_pl_sp\n",
    "    global ensemble_train_pl_ml\n",
    "    global ensemble_test_pl_sp \n",
    "    global ensemble_test_pl_ml\n",
    "    global ensemble_test_pl_sp_2 \n",
    "    global ensemble_test_pl_ml_2\n",
    "    global ensemble_accuracy_train\n",
    "    global ensemble_accuracy_test\n",
    "    global ensemble_accuracy_test_2\n",
    "    global ensemble_std_train_ml\n",
    "    global ensemble_std_train_sp\n",
    "    global ensemble_std_test_ml\n",
    "    global ensemble_std_test_sp\n",
    "    global ensemble_std_test_2_ml\n",
    "    global ensemble_std_test_2_sp\n",
    "    \n",
    "    \n",
    "    #Train\n",
    "    lg.fit(X_train,Y_train)\n",
    "    preds_lg = lg.predict_proba(X_train)\n",
    "    \n",
    "    #10 time fit\n",
    "    df_preds = pd.DataFrame()\n",
    "    \n",
    "    for i in range(10):\n",
    "        gbc.fit(X_train,Y_train)\n",
    "        clf.fit(X_train,Y_train)\n",
    "        preds_gbc = gbc.predict_proba(X_train)\n",
    "        preds_clf = clf.predict_proba(X_train)\n",
    "        df_preds.insert(loc=0,column=str(i)+'preds_gbc',value=preds_gbc[:,1])\n",
    "        df_preds.insert(loc=0,column=str(i)+'preds_clf',value=preds_clf[:,1])\n",
    "    \n",
    "    preds_ensemble = df_preds.median(axis=1).values\n",
    "    preds_ensemble = (preds_ensemble + preds_lg[:,1]) / 2\n",
    "    preds_ensemble = preds_ensemble > 0.5\n",
    "    \n",
    "    print(\"Ensemble Train Confusion Matrix\")\n",
    "    print(pd.crosstab(Y_train, preds_ensemble, rownames=['Actual pos or neg return'], colnames=['Predicted pos or neg return']))\n",
    "    print(\"Accuracy Score of Train = \" + accuracy_score(Y_train, preds_ensemble).astype(str))\n",
    "    ensemble_accuracy_train.append(accuracy_score(Y_train, preds_ensemble))\n",
    "    \n",
    "    #P/L Chart Test\n",
    "    preds = preds_ensemble\n",
    "    pl = (train.stock_return * preds)\n",
    "    \n",
    "    #std dev calc\n",
    "    std = (pl[pl != 0]).std()\n",
    "    \n",
    "    pl = pl.replace(to_replace=0,value=1)\n",
    "    pl = pl.cumprod()\n",
    "    \n",
    "    if output == 1:\n",
    "        plt.figure(0)\n",
    "        title('Ensemble Train Returns')\n",
    "        xlabel('Date')\n",
    "        ylabel('Return')\n",
    "        print('S&P return orange = ' + str(train.stock_return.cumprod()[-1]))\n",
    "        print('ML return blue = '+str(pl[-1]))\n",
    "        plot(pl)\n",
    "        plot(train.stock_return.cumprod())\n",
    "        plt.show()\n",
    "    \n",
    "    ## pseudo_cross_val append\n",
    "    ensemble_train_pl_sp.append(train.stock_return.cumprod()[-1])\n",
    "    ensemble_train_pl_ml.append(pl[-1])\n",
    "    ensemble_std_train_ml.append(std)\n",
    "    ensemble_std_train_sp.append(train.stock_return.std())\n",
    "    \n",
    "    #Test\n",
    "    preds_lg = lg.predict_proba(X_test)\n",
    "    \n",
    "    #10 time fit\n",
    "    df_preds = pd.DataFrame()\n",
    "    \n",
    "    for i in range(10):\n",
    "        gbc.fit(X_train,Y_train)\n",
    "        clf.fit(X_train,Y_train)\n",
    "        preds_gbc = gbc.predict_proba(X_test)\n",
    "        preds_clf = clf.predict_proba(X_test)\n",
    "        df_preds.insert(loc=0,column=str(i)+'preds_gbc',value=preds_gbc[:,1])\n",
    "        df_preds.insert(loc=0,column=str(i)+'preds_clf',value=preds_clf[:,1])\n",
    "    \n",
    "    preds_ensemble = df_preds.median(axis=1).values\n",
    "    preds_ensemble = (preds_ensemble + preds_lg[:,1]) / 2\n",
    "    preds_ensemble = preds_ensemble > 0.5\n",
    "    \n",
    "    print(\"Ensemble Test Confusion Matrix\")\n",
    "    print(pd.crosstab(Y_test, preds_ensemble, rownames=['Actual pos or neg return'], colnames=['Predicted pos or neg return']))\n",
    "    print(\"Accuracy Score of Test = \" + accuracy_score(Y_test, preds_ensemble).astype(str))\n",
    "    ensemble_accuracy_test.append(accuracy_score(Y_test, preds_ensemble))\n",
    "    \n",
    "    #P/L Chart Test\n",
    "    preds = preds_ensemble\n",
    "    pl = (test.stock_return * preds)\n",
    "    \n",
    "    #std dev calc\n",
    "    std = (pl[pl != 0]).std()\n",
    "    \n",
    "    pl = pl.replace(to_replace=0,value=1)\n",
    "    pl = pl.cumprod()\n",
    "    \n",
    "    if output == 1:\n",
    "        plt.figure(1)\n",
    "        title('Ensemble Test Returns')\n",
    "        xlabel('Date')\n",
    "        ylabel('Return')\n",
    "        print('S&P return orange = ' + str(test.stock_return.cumprod()[-1]))\n",
    "        print('ML return blue = '+str(pl[-1]))\n",
    "        plot(pl)\n",
    "        plot(test.stock_return.cumprod())\n",
    "        plt.show()\n",
    "    \n",
    "    ## pseudo_cross_val append\n",
    "    ensemble_test_pl_sp.append(test.stock_return.cumprod()[-1])\n",
    "    ensemble_test_pl_ml.append(pl[-1])\n",
    "    ensemble_std_test_ml.append(std)\n",
    "    ensemble_std_test_sp.append(test.stock_return.std())\n",
    "    \n",
    "    \n",
    "    #Test 2018 - 2019\n",
    "    preds_lg = lg.predict_proba(X_test_two)\n",
    "    \n",
    "    #10 time fit\n",
    "    df_preds = pd.DataFrame()\n",
    "    \n",
    "    for i in range(10):\n",
    "        gbc.fit(X_train,Y_train)\n",
    "        clf.fit(X_train,Y_train)\n",
    "        preds_gbc = gbc.predict_proba(X_test_two)\n",
    "        preds_clf = clf.predict_proba(X_test_two)\n",
    "        df_preds.insert(loc=0,column=str(i)+'preds_gbc',value=preds_gbc[:,1])\n",
    "        df_preds.insert(loc=0,column=str(i)+'preds_clf',value=preds_clf[:,1])\n",
    "    \n",
    "    preds_ensemble = df_preds.median(axis=1).values\n",
    "    preds_ensemble = (preds_ensemble + preds_lg[:,1]) / 2\n",
    "    preds_ensemble = preds_ensemble > 0.5\n",
    "    \n",
    "    print(\"Ensemble Test 2018 2019 Confusion Matrix\")\n",
    "    print(pd.crosstab(Y_test_two, preds_ensemble, rownames=['Actual pos or neg return'], colnames=['Predicted pos or neg return']))\n",
    "    print(\"Accuracy Score of Test = \" + accuracy_score(Y_test_two, preds_ensemble).astype(str))\n",
    "    ensemble_accuracy_test_2.append(accuracy_score(Y_test_two, preds_ensemble))\n",
    "    \n",
    "    #P/L Chart Test Two\n",
    "    preds = preds_ensemble\n",
    "    pl = (df_ml_test.stock_return * preds)\n",
    "    \n",
    "    #std dev calc\n",
    "    std = (pl[pl != 0]).std()\n",
    "    \n",
    "    pl = pl.replace(to_replace=0,value=1)\n",
    "    pl = pl.cumprod()\n",
    "    \n",
    "    if output == 1:\n",
    "        plt.figure(2)\n",
    "        title('Ensemble 2018 2019 Returns')\n",
    "        xlabel('Date')\n",
    "        ylabel('Return')\n",
    "        print('S&P return orange = ' + str(df_ml_test.stock_return.cumprod()[-6]))\n",
    "        print('ML return blue = '+str(pl[-6]))\n",
    "        plot(pl)\n",
    "        plot(df_ml_test.stock_return.cumprod())\n",
    "        plt.show()\n",
    "    \n",
    "    ## pseudo_cross_val append\n",
    "    ensemble_test_pl_sp_2.append(df_ml_test.stock_return.cumprod()[-6]) \n",
    "    ensemble_test_pl_ml_2.append(pl[-6])\n",
    "    ensemble_std_test_2_ml.append(std)\n",
    "    ensemble_std_test_2_sp.append(df_ml_test.stock_return.std())"
   ]
  },
  {
   "cell_type": "code",
   "execution_count": null,
   "metadata": {
    "scrolled": true
   },
   "outputs": [],
   "source": [
    "ensemble_2(1)"
   ]
  },
  {
   "cell_type": "code",
   "execution_count": null,
   "metadata": {
    "scrolled": true
   },
   "outputs": [],
   "source": [
    "ensemble_dict()\n",
    "\n",
    "blockprint()\n",
    "\n",
    "## will take a while. \n",
    "\n",
    "for i in range(rounds):\n",
    "    ensemble_2(0)"
   ]
  },
  {
   "cell_type": "code",
   "execution_count": null,
   "metadata": {
    "scrolled": true
   },
   "outputs": [],
   "source": [
    "enableprint()"
   ]
  },
  {
   "cell_type": "code",
   "execution_count": null,
   "metadata": {
    "scrolled": false
   },
   "outputs": [],
   "source": [
    "psuedo_cross_val_print(y)"
   ]
  },
  {
   "cell_type": "code",
   "execution_count": null,
   "metadata": {
    "scrolled": true
   },
   "outputs": [],
   "source": [
    "print(\"For \" + str(rounds) + \" rounds, the ensemble 2.0 method outperforms on the out of sample data this many times: \" \\\n",
    "      + str(sum(np.array(ensemble_test_pl_ml) > 2.467676)))"
   ]
  },
  {
   "cell_type": "code",
   "execution_count": null,
   "metadata": {
    "scrolled": true
   },
   "outputs": [],
   "source": [
    "print(\"For \" + str(rounds) + \" rounds, the ensemble 2.0 method outperforms on the held back data this many times: \" + \\\n",
    "      str(sum(np.array(ensemble_test_pl_ml_2) > 1.2262)))"
   ]
  }
 ],
 "metadata": {
  "kernelspec": {
   "display_name": "Python 3",
   "language": "python",
   "name": "python3"
  },
  "language_info": {
   "codemirror_mode": {
    "name": "ipython",
    "version": 3
   },
   "file_extension": ".py",
   "mimetype": "text/x-python",
   "name": "python",
   "nbconvert_exporter": "python",
   "pygments_lexer": "ipython3",
   "version": "3.7.1"
  }
 },
 "nbformat": 4,
 "nbformat_minor": 2
}
